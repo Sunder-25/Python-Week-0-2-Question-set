{
 "cells": [
  {
   "cell_type": "code",
   "execution_count": null,
   "id": "5fd5c475",
   "metadata": {},
   "outputs": [],
   "source": [
    "1.Write a Python program that prints numbers from 1 to 5.\n",
    "Expected Output:\n",
    "1 2 3 4 5\n"
   ]
  },
  {
   "cell_type": "code",
   "execution_count": 9,
   "id": "5a8e15a2-b28f-448a-85bf-e9f11fc07be6",
   "metadata": {},
   "outputs": [
    {
     "name": "stdout",
     "output_type": "stream",
     "text": [
      "1 2 3 4 5 "
     ]
    }
   ],
   "source": [
    "for i in range(1, 6):\n",
    "    print(i, end=\" \")"
   ]
  },
  {
   "cell_type": "code",
   "execution_count": null,
   "id": "3c8bc472",
   "metadata": {},
   "outputs": [],
   "source": [
    "2.Write a Python program to print the first 5 even numbers. Expected Output:\n",
    "2 4 6 8 10\n",
    "\n"
   ]
  },
  {
   "cell_type": "code",
   "execution_count": 10,
   "id": "839a6576-4ec8-4284-a8e1-50257b1fbe15",
   "metadata": {},
   "outputs": [
    {
     "name": "stdout",
     "output_type": "stream",
     "text": [
      "2 4 6 8 10 "
     ]
    }
   ],
   "source": [
    "for i in range(2, 11, 2):\n",
    "    print(i, end= \" \")\n",
    "    "
   ]
  },
  {
   "cell_type": "code",
   "execution_count": null,
   "id": "5e7af211",
   "metadata": {},
   "outputs": [],
   "source": [
    "3.Write a Python program to print the sum of numbers from 1 to 10. \n",
    "Expected Output:55\n",
    "\n"
   ]
  },
  {
   "cell_type": "code",
   "execution_count": 11,
   "id": "9875fd4d-a11a-4ea2-9b26-0964619a2bf3",
   "metadata": {},
   "outputs": [
    {
     "name": "stdout",
     "output_type": "stream",
     "text": [
      "55\n"
     ]
    }
   ],
   "source": [
    "print(sum(range(1, 11)))"
   ]
  },
  {
   "cell_type": "code",
   "execution_count": null,
   "id": "ac09aa1a",
   "metadata": {},
   "outputs": [],
   "source": [
    "4.Write a Python function to find the factorial of 5. Expected Output:\n",
    "120\n",
    "\n"
   ]
  },
  {
   "cell_type": "code",
   "execution_count": 14,
   "id": "c7a7a21d-c7a0-49c5-8e74-a4984fc06c06",
   "metadata": {},
   "outputs": [
    {
     "name": "stdout",
     "output_type": "stream",
     "text": [
      "120\n"
     ]
    }
   ],
   "source": [
    "def factorial(n):\n",
    "    result = 1\n",
    "    for i in range(1, n+1):\n",
    "        result *= i\n",
    "    return result\n",
    "\n",
    "# Find factorial of 5\n",
    "print(factorial(5))"
   ]
  },
  {
   "cell_type": "code",
   "execution_count": 17,
   "id": "2dc631c4-d9ee-4661-a408-7f7a228006b6",
   "metadata": {},
   "outputs": [
    {
     "name": "stdout",
     "output_type": "stream",
     "text": [
      "120\n"
     ]
    }
   ],
   "source": [
    "def factorial (n):\n",
    "    result = 1\n",
    "    for i in range (1, n+1):\n",
    "        result *=i\n",
    "    return result\n",
    "print(factorial(5))\n"
   ]
  },
  {
   "cell_type": "code",
   "execution_count": null,
   "id": "8ab9fc8a",
   "metadata": {},
   "outputs": [],
   "source": [
    "5.Write a Python program to check if a number is prime. Expected Output (for input 7):\n",
    "7 is a prime number\n",
    "\n"
   ]
  },
  {
   "cell_type": "code",
   "execution_count": 18,
   "id": "508c0d66-f42e-4c52-a954-1b05b50f0fc6",
   "metadata": {},
   "outputs": [
    {
     "name": "stdin",
     "output_type": "stream",
     "text": [
      "Enter a number:  7\n"
     ]
    },
    {
     "name": "stdout",
     "output_type": "stream",
     "text": [
      "7 is a prime number\n"
     ]
    }
   ],
   "source": [
    "def is_prime(num):\n",
    "    if num <= 1:\n",
    "        return False\n",
    "    for i in range(2, int(num**0.5) + 1):\n",
    "        if num % i == 0:\n",
    "            return False\n",
    "    return True\n",
    "\n",
    "# Example run\n",
    "num = int(input(\"Enter a number: \"))\n",
    "if is_prime(num):\n",
    "    print(f\"{num} is a prime number\")\n",
    "else:\n",
    "    print(f\"{num} is not a prime number\")\n"
   ]
  },
  {
   "cell_type": "code",
   "execution_count": null,
   "id": "6517ee53-0537-4190-a5af-ce068ec71b3a",
   "metadata": {},
   "outputs": [],
   "source": []
  }
 ],
 "metadata": {
  "kernelspec": {
   "display_name": "Python 3 (ipykernel)",
   "language": "python",
   "name": "python3"
  },
  "language_info": {
   "codemirror_mode": {
    "name": "ipython",
    "version": 3
   },
   "file_extension": ".py",
   "mimetype": "text/x-python",
   "name": "python",
   "nbconvert_exporter": "python",
   "pygments_lexer": "ipython3",
   "version": "3.13.5"
  }
 },
 "nbformat": 4,
 "nbformat_minor": 5
}
